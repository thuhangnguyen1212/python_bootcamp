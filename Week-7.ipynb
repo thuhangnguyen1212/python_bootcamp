{
 "cells": [
  {
   "cell_type": "code",
   "execution_count": 4,
   "id": "3ccb28ca",
   "metadata": {},
   "outputs": [
    {
     "name": "stdout",
     "output_type": "stream",
     "text": [
      "10\n"
     ]
    }
   ],
   "source": [
    "values = { 4:4, 8:8, \"Q\":10, \"ACE\":11 }\n",
    "card = (\"Q\", \"Hearts\")\n",
    "print(\"{}\".format(values[card[0]]))"
   ]
  },
  {
   "cell_type": "code",
   "execution_count": 7,
   "id": "8ebe1613",
   "metadata": {},
   "outputs": [
    {
     "name": "stdout",
     "output_type": "stream",
     "text": [
      "<__main__.Car object at 0x0000016AECB5D6A0>\n"
     ]
    }
   ],
   "source": [
    "class Car():  # parens are optional here\n",
    "    pass\n",
    "ford = Car()  # creates an instance of the Car class and stores into the variable ford\n",
    "print(ford)"
   ]
  },
  {
   "cell_type": "code",
   "execution_count": 10,
   "id": "6ce46a82",
   "metadata": {},
   "outputs": [
    {
     "name": "stdout",
     "output_type": "stream",
     "text": [
      "97421843839\n",
      "97422246977\n"
     ]
    }
   ],
   "source": [
    "class Car():\n",
    "    pass\n",
    "ford = Car()\n",
    "subaru = Car()  # creates another object from the car class\n",
    "print(hash(ford))\n",
    "print(hash(subaru)) "
   ]
  },
  {
   "cell_type": "code",
   "execution_count": 12,
   "id": "0c3293c3",
   "metadata": {},
   "outputs": [
    {
     "name": "stdout",
     "output_type": "stream",
     "text": [
      "97421843944\n",
      "97422246997\n"
     ]
    }
   ],
   "source": [
    "class Animal():\n",
    "    pass\n",
    "lion=Animal()\n",
    "tiger=Animal()\n",
    "print(hash(lion))\n",
    "print(hash(tiger))"
   ]
  },
  {
   "cell_type": "code",
   "execution_count": 14,
   "id": "0d03c92e",
   "metadata": {},
   "outputs": [
    {
     "name": "stdout",
     "output_type": "stream",
     "text": [
      "red\n",
      "honk\n"
     ]
    }
   ],
   "source": [
    "class Car( ):\n",
    "    sound = \"beep\"  #  all car objects will have this sound attribute and its' value\n",
    "    color = \"red\"  #  all car objects will have this color attribute and its' value\n",
    "ford = Car( )\n",
    "print(ford.color)\n",
    "ford.sound = \"honk\"  #  from now on the value of fords sound is honk, this does not affect other instances\n",
    "print(ford.sound)"
   ]
  },
  {
   "cell_type": "code",
   "execution_count": 22,
   "id": "22516d2f",
   "metadata": {},
   "outputs": [
    {
     "name": "stdout",
     "output_type": "stream",
     "text": [
      "blue\n",
      "<__main__.Car object at 0x0000016AED184CD0>\n"
     ]
    }
   ],
   "source": [
    "class Car():\n",
    "    def __init__(self, color):\n",
    "        self.color = color  #  sets the attribute color to the value passed in\n",
    "ford = Car(\"blue\")  # instantiating a Car class with the color blue\n",
    "print(ford.color)\n",
    "huyndai=Car(\"green\")\n",
    "print(huyndai)"
   ]
  },
  {
   "cell_type": "code",
   "execution_count": 24,
   "id": "58a24e21",
   "metadata": {},
   "outputs": [
    {
     "name": "stdout",
     "output_type": "stream",
     "text": [
      "blue 2016\n",
      "red 2018\n"
     ]
    }
   ],
   "source": [
    "class Car( ):\n",
    "    def __init__(self, color, year):\n",
    "        self.color = color  #  sets the attribute color to the value passed in\n",
    "        self.year = year\n",
    "ford = Car(\"blue\", 2016)  #  create a car object with the color blue and year 2016\n",
    "subaru = Car(\"red\", 2018)  #  create a car object with the color red and year 2018\n",
    "print(ford.color, ford.year)\n",
    "print(subaru.color, subaru.year)"
   ]
  },
  {
   "cell_type": "code",
   "execution_count": 27,
   "id": "5c0e5b7f",
   "metadata": {},
   "outputs": [
    {
     "name": "stdout",
     "output_type": "stream",
     "text": [
      "beep\n",
      "beep blue\n"
     ]
    }
   ],
   "source": [
    "class Car( ):\n",
    "    sound = \"beep\"  # global attribute, accessible through the class itself\n",
    "    def __init__(self, color):\n",
    "        self.color = \"blue\"  #  instance specific attribute, not accessible through the class itself\n",
    "print(Car.sound) #print(Car.color) won't work, as color is only available to instances of the Car class, not the class itself\n",
    "ford = Car(\"blue\")\n",
    "print(ford.sound, ford.color)"
   ]
  },
  {
   "cell_type": "code",
   "execution_count": null,
   "id": "e9b68c06",
   "metadata": {},
   "outputs": [],
   "source": [
    "class Dog():\n",
    "    species=\"Canine\"\n",
    "    def __init__(self,name,breed):\n",
    "        self.name=name\n",
    "        self.breed=breed\n",
    "Husky=Dog(\"Sammi\")\n",
    "Chocolate_Lab=Dog(\"Casey\")"
   ]
  },
  {
   "cell_type": "code",
   "execution_count": 39,
   "id": "920054d8",
   "metadata": {},
   "outputs": [
    {
     "name": "stdout",
     "output_type": "stream",
     "text": [
      "Please type characters!\n"
     ]
    }
   ],
   "source": [
    "class Person():\n",
    "    def __init__(self, name):\n",
    "        self.name=name\n",
    "user_input=input(\"What is your name?\")\n",
    "\n",
    "if user_input.replace(\" \",\"\").isalpha():\n",
    "    someone_name=Person(user_input)\n",
    "    print(someone_name.name)\n",
    "else:\n",
    "    print(\"Please type characters!\")"
   ]
  },
  {
   "cell_type": "code",
   "execution_count": 40,
   "id": "551e5b9a",
   "metadata": {},
   "outputs": [
    {
     "name": "stdout",
     "output_type": "stream",
     "text": [
      "bark\n"
     ]
    }
   ],
   "source": [
    "class Dog( ):\n",
    "    sound = \"bark\"\n",
    "    def makeSound(self):\n",
    "        print(self.sound)  #  self required to access attributes defined in the class\n",
    "sam = Dog( )\n",
    "sam.makeSound( )"
   ]
  },
  {
   "cell_type": "code",
   "execution_count": 42,
   "id": "b1be0b17",
   "metadata": {},
   "outputs": [
    {
     "name": "stdout",
     "output_type": "stream",
     "text": [
      "bark\n"
     ]
    }
   ],
   "source": [
    "class Dog():\n",
    "    sound = \"bark\"\n",
    "sam = Dog()\n",
    "print(sam.sound)"
   ]
  },
  {
   "cell_type": "code",
   "execution_count": 43,
   "id": "71ea6e21",
   "metadata": {},
   "outputs": [
    {
     "name": "stdout",
     "output_type": "stream",
     "text": [
      "Sammi\n"
     ]
    }
   ],
   "source": [
    " # using methods to set or return attribute values, proper programming practice\n",
    "class Dog( ):\n",
    "    name = ' '  #  would normally use init method to declare, this is for testing purposes\n",
    "    def setName(self, new_name):\n",
    "        self.name = new_name  #  declares the new value for the name attribute\n",
    "    def getName(self):\n",
    "        return self.name  # returns the value of the name attribute\n",
    "sam = Dog( )\n",
    "sam.setName(\"Sammi\")\n",
    "print(sam.getName())  # prints the returned value of self.name"
   ]
  },
  {
   "cell_type": "code",
   "execution_count": 44,
   "id": "2f07387b",
   "metadata": {},
   "outputs": [
    {
     "name": "stdout",
     "output_type": "stream",
     "text": [
      "6\n"
     ]
    }
   ],
   "source": [
    "# incrementing/decrementing attribute values with methods, best programming practice\n",
    "class Dog( ):\n",
    "    age = 5\n",
    "    def happyBirthday(self):\n",
    "        self.age += 1\n",
    "sam = Dog()\n",
    "sam.happyBirthday()  # calls method to increment value by one\n",
    "print(sam.age)  # better practice use getters, this is for testing purposes"
   ]
  },
  {
   "cell_type": "code",
   "execution_count": 46,
   "id": "597bc7ae",
   "metadata": {},
   "outputs": [
    {
     "name": "stdout",
     "output_type": "stream",
     "text": [
      "Puppy!\n"
     ]
    }
   ],
   "source": [
    " # calling a class method from another method\n",
    "class Dog( ):\n",
    "    age = 6\n",
    "    def getAge(self):\n",
    "        return self.age\n",
    "    def printInfo(self):\n",
    "        if self.getAge( ) < 10:  #  need self to call other method for an instance\n",
    "            print(\"Puppy!\")\n",
    "sam = Dog( )\n",
    "sam.printInfo( )"
   ]
  },
  {
   "cell_type": "code",
   "execution_count": null,
   "id": "e70a74f2",
   "metadata": {},
   "outputs": [],
   "source": []
  },
  {
   "cell_type": "markdown",
   "id": "ddf27fc6",
   "metadata": {},
   "source": []
  }
 ],
 "metadata": {
  "kernelspec": {
   "display_name": "Python 3",
   "language": "python",
   "name": "python3"
  },
  "language_info": {
   "codemirror_mode": {
    "name": "ipython",
    "version": 3
   },
   "file_extension": ".py",
   "mimetype": "text/x-python",
   "name": "python",
   "nbconvert_exporter": "python",
   "pygments_lexer": "ipython3",
   "version": "3.13.0"
  }
 },
 "nbformat": 4,
 "nbformat_minor": 5
}
