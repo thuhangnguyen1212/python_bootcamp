{
 "cells": [
  {
   "cell_type": "code",
   "execution_count": null,
   "id": "c946c033",
   "metadata": {},
   "outputs": [],
   "source": [
    "#Create and calling Functions\n",
    "def printInfo():\n",
    "        print(\"Name: John Smith\")\n",
    "        print(\"Age:45\")\n",
    "printInfo()\n",
    "printInfo()"
   ]
  },
  {
   "cell_type": "code",
   "execution_count": null,
   "id": "ef0bf39d",
   "metadata": {},
   "outputs": [],
   "source": [
    "def calc():\n",
    "    x,y =5,10\n",
    "    print(x+y)\n",
    "calc()"
   ]
  },
  {
   "cell_type": "code",
   "execution_count": null,
   "id": "3e9f661b",
   "metadata": {},
   "outputs": [],
   "source": [
    "def myName():\n",
    "        print(\"Givennames:Thu Hang\")\n",
    "        print(\"Surname:Nguyen\")\n",
    "myName()"
   ]
  },
  {
   "cell_type": "code",
   "execution_count": null,
   "id": "be79f745",
   "metadata": {},
   "outputs": [],
   "source": [
    "def printName(full_name):\n",
    "    print( \"Your name is: {}\".format(full_name))\n",
    "\n",
    "printName(\"John Smith\")\n",
    "printName(\"Amanda\")"
   ]
  },
  {
   "cell_type": "code",
   "execution_count": null,
   "id": "1b937682",
   "metadata": {},
   "outputs": [],
   "source": [
    "# using a function to square all information\n",
    "numbers1 = [ 2, 4, 5, 10 ]\n",
    "numbers2 = [ 1, 3, 6 ]\n",
    "def squares(nums):\n",
    "    for num in nums:\n",
    "        print(num**2)\n",
    "squares(numbers1)\n",
    "squares(numbers2)"
   ]
  },
  {
   "cell_type": "code",
   "execution_count": null,
   "id": "d0cc7e73",
   "metadata": {},
   "outputs": [],
   "source": [
    "def calcArea(r, pi=3.14):\n",
    "    area = pi *(r**2)\n",
    "    print( \"Area: {}\".format(area) )\n",
    "calcArea(2)  # assuming radius is the value of 2"
   ]
  },
  {
   "cell_type": "code",
   "execution_count": null,
   "id": "f254d239",
   "metadata": {},
   "outputs": [],
   "source": [
    "def outputData(name, *args):\n",
    "    print(type(args))\n",
    "    for arg in args:\n",
    "        print(arg)\n",
    "outputData(\"John Smith\", 5, True, \"Jess\")"
   ]
  },
  {
   "cell_type": "code",
   "execution_count": null,
   "id": "b7cf90f4",
   "metadata": {},
   "outputs": [],
   "source": [
    "def outputData(**kwargs):\n",
    "    print( type(kwargs) )\n",
    "    print( kwargs[ \"name\" ] )\n",
    "    print( kwargs[ \"num\" ] )\n",
    "outputData(name = \"John Smith\", num = 5, b = True)"
   ]
  },
  {
   "cell_type": "code",
   "execution_count": null,
   "id": "735855fe",
   "metadata": {},
   "outputs": [],
   "source": [
    "def returnMultiple():\n",
    "    a = 5\n",
    "    b = 10\n",
    "    return [a, b]"
   ]
  },
  {
   "cell_type": "code",
   "execution_count": null,
   "id": "434b2194",
   "metadata": {},
   "outputs": [],
   "source": [
    "def addNums(num1, num2):\n",
    "    return num1 + num2\n",
    "num = addNums(5.5, 4.5)\n",
    "print(num)\n",
    "print( addNums(10, 10) )"
   ]
  },
  {
   "cell_type": "code",
   "execution_count": null,
   "id": "ab6841eb",
   "metadata": {},
   "outputs": [],
   "source": [
    "def searchList(aList, el):\n",
    "    return True if el in aList else False\n",
    "result = searchList( [ \"one\", 2, \"three\" ], 2)  # result = True\n",
    "print(result)"
   ]
  },
  {
   "cell_type": "code",
   "execution_count": null,
   "id": "001569d7",
   "metadata": {},
   "outputs": [],
   "source": [
    "def fullName(firstname, lastname):\n",
    "    return firstname+\" \"+lastname\n",
    "firstname =\"John\"\n",
    "lastname =\"Smith\"\n",
    "print(fullName(firstname,lastname))"
   ]
  },
  {
   "cell_type": "code",
   "execution_count": null,
   "id": "495b36b9",
   "metadata": {},
   "outputs": [],
   "source": [
    "number = 5\n",
    "def scopeTest():\n",
    "    number += 1  # not accessible due to function level scope\n",
    "scopeTest()"
   ]
  },
  {
   "cell_type": "code",
   "execution_count": null,
   "id": "90d082d2",
   "metadata": {},
   "outputs": [],
   "source": [
    "def scopeTest( ):\n",
    "    word = \"function\"\n",
    "    return word\n",
    "value = scopeTest( )\n",
    "print(value)"
   ]
  },
  {
   "cell_type": "code",
   "execution_count": null,
   "id": "418ad192",
   "metadata": {},
   "outputs": [],
   "source": [
    "num = 5\n",
    "def changeNum(n):\n",
    "    n += 5\n",
    "    print(num)"
   ]
  },
  {
   "cell_type": "code",
   "execution_count": null,
   "id": "c9b4ec0d",
   "metadata": {},
   "outputs": [],
   "source": [
    "sports = [ \"baseball\", \"football\", \"hockey\", \"basketball\" ]\n",
    "def change(aList):\n",
    "    aList[ 0 ] = \"soccer\"\n",
    "print(\"Before Altering: {}\".format(sports) )\n",
    "change(sports)\n",
    "print( \"After Altering: {}\".format(sports) )"
   ]
  }
 ],
 "metadata": {
  "kernelspec": {
   "display_name": "Python 3",
   "language": "python",
   "name": "python3"
  },
  "language_info": {
   "codemirror_mode": {
    "name": "ipython",
    "version": 3
   },
   "file_extension": ".py",
   "mimetype": "text/x-python",
   "name": "python",
   "nbconvert_exporter": "python",
   "pygments_lexer": "ipython3",
   "version": "3.13.0"
  }
 },
 "nbformat": 4,
 "nbformat_minor": 5
}
