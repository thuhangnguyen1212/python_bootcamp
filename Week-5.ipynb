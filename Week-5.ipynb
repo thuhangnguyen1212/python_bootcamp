{
 "cells": [
  {
   "cell_type": "code",
   "execution_count": 1,
   "id": "961b233f",
   "metadata": {},
   "outputs": [
    {
     "name": "stdout",
     "output_type": "stream",
     "text": [
      "a:[5, 10]\t b:[5, 10]\n",
      "Location a[0]:140716661924904\t Location b[0]:140716661924904\n",
      "a:[20, 10]\t b:[20, 10]\n"
     ]
    }
   ],
   "source": [
    "a=[5,10]\n",
    "b=a\n",
    "print(\"a:{}\\t b:{}\".format(a,b))\n",
    "print(\"Location a[0]:{}\\t Location b[0]:{}\".format (id(a[0]),id(b[0])))\n",
    "a[0] = 20\n",
    "print(\"a:{}\\t b:{}\".format(a,b))"
   ]
  },
  {
   "cell_type": "code",
   "execution_count": 5,
   "id": "e95312cb",
   "metadata": {},
   "outputs": [
    {
     "name": "stdout",
     "output_type": "stream",
     "text": [
      "Value:0\n",
      "Value:1\n",
      "Value:2\n",
      "Value:3\n",
      "Value:4\n"
     ]
    }
   ],
   "source": [
    "for num in range (5):\n",
    "    print(\"Value:{}\".format(num))"
   ]
  },
  {
   "cell_type": "code",
   "execution_count": 1,
   "id": "55022cc4",
   "metadata": {},
   "outputs": [
    {
     "name": "stdout",
     "output_type": "stream",
     "text": [
      "Value:J\n",
      "Value:o\n",
      "Value:h\n",
      "Value:n\n",
      "Value: \n",
      "Value:S\n",
      "Value:m\n",
      "Value:i\n",
      "Value:t\n",
      "Value:h\n"
     ]
    }
   ],
   "source": [
    "name = \"John Smith\"\n",
    "for letter in name:\n",
    "    print(\"Value:{}\".format(letter))"
   ]
  },
  {
   "cell_type": "code",
   "execution_count": 4,
   "id": "0c46decc",
   "metadata": {},
   "outputs": [
    {
     "name": "stdout",
     "output_type": "stream",
     "text": [
      "0\n",
      "1\n",
      "2\n",
      "4\n"
     ]
    }
   ],
   "source": [
    "for num in range(5):\n",
    "    if num ==3:\n",
    "            continue\n",
    "    print(num)"
   ]
  },
  {
   "cell_type": "code",
   "execution_count": 6,
   "id": "22a9a907",
   "metadata": {},
   "outputs": [
    {
     "name": "stdout",
     "output_type": "stream",
     "text": [
      "0\n",
      "1\n",
      "2\n"
     ]
    }
   ],
   "source": [
    "for num in range(5):\n",
    "    if num ==3:\n",
    "            break\n",
    "    print(num)"
   ]
  },
  {
   "cell_type": "code",
   "execution_count": 3,
   "id": "639df0aa",
   "metadata": {},
   "outputs": [
    {
     "name": "stdout",
     "output_type": "stream",
     "text": [
      "10\n",
      "9\n",
      "8\n",
      "7\n",
      "6\n",
      "5\n",
      "4\n",
      "3\n",
      "2\n",
      "1\n"
     ]
    }
   ],
   "source": [
    "health = 10\n",
    "while health >0:\n",
    "    print(health)\n",
    "    health -=1"
   ]
  },
  {
   "cell_type": "code",
   "execution_count": 4,
   "id": "6a19fe42",
   "metadata": {},
   "outputs": [
    {
     "name": "stdout",
     "output_type": "stream",
     "text": [
      "3\n"
     ]
    }
   ],
   "source": [
    "num=[5,10,15]\n",
    "length=len(num)\n",
    "print(length)"
   ]
  },
  {
   "cell_type": "code",
   "execution_count": 5,
   "id": "01f44128",
   "metadata": {},
   "outputs": [
    {
     "name": "stdout",
     "output_type": "stream",
     "text": [
      "[10, 15]\n",
      "[5, 10]\n",
      "[5, 15]\n",
      "[10, 15]\n"
     ]
    }
   ],
   "source": [
    "print(num[1:3])\n",
    "print(num[:2])\n",
    "print(num[::2])\n",
    "print(num[-2:])"
   ]
  },
  {
   "cell_type": "code",
   "execution_count": 6,
   "id": "ab73022e",
   "metadata": {},
   "outputs": [
    {
     "name": "stdout",
     "output_type": "stream",
     "text": [
      "5 \n",
      " ['ball']\n"
     ]
    }
   ],
   "source": [
    "items = [5, \"ball\", True]\n",
    "items.pop( )  # by default removes the last item\n",
    "removed_item = items.pop(0)  # removes 5 and saves it into the variable\n",
    "print(removed_item, \"\\n\", items)"
   ]
  },
  {
   "cell_type": "code",
   "execution_count": 8,
   "id": "361ce54a",
   "metadata": {},
   "outputs": [
    {
     "name": "stdout",
     "output_type": "stream",
     "text": [
      "['baseball', 'football', 'hockey']\n"
     ]
    }
   ],
   "source": [
    "sports = [ \"baseball\", \"soccer\", \"football\", \"hockey\" ]\n",
    "try:\n",
    "    sports.remove(\"soccer\")\n",
    "except:\n",
    "    print(\"That item does not exist in the list\")\n",
    "print(sports)"
   ]
  },
  {
   "cell_type": "code",
   "execution_count": 9,
   "id": "b1110025",
   "metadata": {},
   "outputs": [
    {
     "name": "stdout",
     "output_type": "stream",
     "text": [
      "That item does not exist in the list\n",
      "['baseball', 'football', 'hockey']\n"
     ]
    }
   ],
   "source": [
    "sports = [ \"baseball\", \"football\", \"hockey\" ]\n",
    "try:\n",
    "    sports.remove(\"soccer\")\n",
    "except:\n",
    "    print(\"That item does not exist in the list\")\n",
    "print(sports)"
   ]
  },
  {
   "cell_type": "code",
   "execution_count": 10,
   "id": "101865a0",
   "metadata": {},
   "outputs": [
    {
     "name": "stdout",
     "output_type": "stream",
     "text": [
      "[5, 8, 0, 2] [0, 2, 5, 8]\n"
     ]
    }
   ],
   "source": [
    "nums = [5, 8, 0, 2]\n",
    "sorted_nums = sorted(nums)  # save to a new variable to use later\n",
    "print(nums, sorted_nums) "
   ]
  },
  {
   "cell_type": "code",
   "execution_count": 11,
   "id": "214c8008",
   "metadata": {},
   "outputs": [
    {
     "name": "stdout",
     "output_type": "stream",
     "text": [
      "[0, 3, 5, 8]\n"
     ]
    }
   ],
   "source": [
    "nums = [5, 0, 8, 3]\n",
    "nums.sort( )  # alters the original variable directly\n",
    "print(nums)"
   ]
  },
  {
   "cell_type": "code",
   "execution_count": 12,
   "id": "ed502f7d",
   "metadata": {},
   "outputs": [
    {
     "name": "stdout",
     "output_type": "stream",
     "text": [
      "found\n",
      "not found\n"
     ]
    }
   ],
   "source": [
    "names = [ \"Jack\", \"Robert\", \"Mary\" ]\n",
    "if \"Mary\" in names:\n",
    "    print(\"found\")  # will run since Mary is in the list\n",
    "if \"Jimmy\" not in names:\n",
    "    print(\"not found\")"
   ]
  },
  {
   "cell_type": "code",
   "execution_count": 17,
   "id": "105c66d6",
   "metadata": {},
   "outputs": [
    {
     "name": "stdout",
     "output_type": "stream",
     "text": [
      "Counter({'Bob': 2, 'Kenny': 2, 'Amanda': 1})\n"
     ]
    }
   ],
   "source": [
    "from collections import Counter\n",
    "\n",
    "names = ['Bob', 'Kenny', 'Amanda', 'Bob', 'Kenny']\n",
    "name_count= Counter(names)\n",
    "print(name_count)"
   ]
  },
  {
   "cell_type": "code",
   "execution_count": 18,
   "id": "aae366cd",
   "metadata": {},
   "outputs": [
    {
     "name": "stdout",
     "output_type": "stream",
     "text": [
      "['Bob', 'Kenny', 'Amanda']\n"
     ]
    }
   ],
   "source": [
    "names = ['Bob', 'Kenny', 'Amanda', 'Bob', 'Kenny']\n",
    "unique_names = []\n",
    "for name in names:\n",
    "    if name not in unique_names:\n",
    "        unique_names.append(name)\n",
    "print(unique_names)"
   ]
  },
  {
   "cell_type": "code",
   "execution_count": 30,
   "id": "dd924d8a",
   "metadata": {},
   "outputs": [
    {
     "name": "stdout",
     "output_type": "stream",
     "text": [
      "\n",
      "You entered:\n",
      "Thu Hang\n",
      "Python\n",
      "Learning\n"
     ]
    }
   ],
   "source": [
    "words=[]\n",
    "while True:\n",
    "    user_input =input(\"If you want to quit, type quit\")\n",
    "    if user_input ==\"quit\":\n",
    "        break\n",
    "    words.append(user_input)\n",
    "\n",
    "print(\"\\nYou entered:\")\n",
    "for word in words:\n",
    "    print(word)"
   ]
  },
  {
   "cell_type": "code",
   "execution_count": null,
   "id": "f559a592",
   "metadata": {},
   "outputs": [],
   "source": [
    "# import additional functions\n",
    "from random import choice\n",
    "from IPython.display import clear_output\n",
    "\n",
    " # declare game variables\n",
    "words = [ \"tree\", \"basket\", \"chair\", \"paper\", \"python\" ]\n",
    "word = choice(words)  # randomly chooses a word from words list\n",
    "guessed, lives, game_over = [ ], 7, False  # multi variable assignment\n",
    "\n",
    " # create a list of underscores to the length of the word\n",
    "guesses = [ \"_ \" ] *len(word)\n",
    "\n",
    "# create main game loop\n",
    "while not game_over:\n",
    "    ans = input(\"Type quit or guess a letter: \").lower( )\n",
    "    if ans == \"quit\":\n",
    "    print(\"Thanks for playing.\")\n",
    "    game_over = True\n",
    "\n",
    "while not game_over:  ◻◻◻\n",
    "    # output game information\n",
    "    hidden_word = \"\".join(guesses)\n",
    "    print( \"Word to guess: { }\".format(hidden_word) )\n",
    "    print( \"Lives: { }\".format(lives) )\n",
    "    ans = input(  ◻◻◻\n",
    "                \n",
    "    game_over = True  ◻◻◻\n",
    "    elif ans in word:  # check if letter in word\n",
    "    print(\"You guessed correctly!\")\n",
    "    else:  # otherwise lose life\n",
    "    lives -= 1\n",
    "    print(\"Incorrect, you lost a life.\")\n",
    "\n",
    "    ans = input(  ◻◻◻\n",
    "    clear_output( )  # clear all previous output\n",
    "    if ans == 'quit':  ◻◻◻\n",
    "\n",
    "    print('Incorrect, ◻◻◻\n",
    "    if lives <= 0:\n",
    "    print(\"You lost all your lives, you lost!\")\n",
    "    game_over = True\n",
    "\n",
    "    print('You guessed correctly!')  ◻◻◻\n",
    "    # create a loop to change underscore to proper letter\n",
    "    for i in range( len(word) ):\n",
    "    if word[ i ] == ans:  # comapares values at indexes\n",
    "    guesses[ i ] = ans\n",
    "    else:  ◻◻◻\n",
    "\n",
    "    game_over = True  ◻◻◻\n",
    "    elif word == \"\".join(guesses):\n",
    "    print(\"Congratulations, you guessed it correctly!\")\n",
    "    game_over = True\n",
    "\n",
    "    hidden_word =  ◻◻◻\n",
    "    print(\"Your guessed letters: { }\".format(guessed) )\n",
    "    print(\"Word to guess  ◻◻◻\n",
    "          \n",
    "    print(\"Incorrect,  ◻◻◻\n",
    "    if ans not in guessed:\n",
    "    guessed.append(ans)  # add ans to guessed list\n",
    "    if lives <= 0:  ◻◻◻\n",
    "\n",
    "    game_over = True  ◻◻◻\n",
    "    elif ans in word and ans not in guessed:\n",
    "    print(\"You guessed correctly!\")  ◻◻◻\n",
    "    guesses[ i ] = ans  ◻◻◻\n",
    "    elif ans in guessed:\n",
    "    print(\"You already guessed that. Try again.\")\n",
    "37|  else:  ◻◻◻"
   ]
  }
 ],
 "metadata": {
  "kernelspec": {
   "display_name": "Python 3",
   "language": "python",
   "name": "python3"
  },
  "language_info": {
   "codemirror_mode": {
    "name": "ipython",
    "version": 3
   },
   "file_extension": ".py",
   "mimetype": "text/x-python",
   "name": "python",
   "nbconvert_exporter": "python",
   "pygments_lexer": "ipython3",
   "version": "3.13.0"
  }
 },
 "nbformat": 4,
 "nbformat_minor": 5
}
