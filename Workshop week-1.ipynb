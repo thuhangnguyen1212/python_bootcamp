{
 "cells": [
  {
   "cell_type": "code",
   "execution_count": 7,
   "id": "0d46e26c",
   "metadata": {},
   "outputs": [
    {
     "name": "stdout",
     "output_type": "stream",
     "text": [
      "You are typing an invalid number!Please type again!\n",
      "You are not an adult!\n"
     ]
    }
   ],
   "source": [
    "while True:\n",
    "    ans=input(\"How old are you?\")\n",
    "    if ans.isdigit():\n",
    "        age=int(ans)\n",
    "        if age >= 18:\n",
    "            print(\"You are an adult!\")\n",
    "        elif age < 18:\n",
    "            print (\"You are not an adult!\")\n",
    "        break\n",
    "    else:\n",
    "        print (\"You are typing an invalid number!Please type again!\")"
   ]
  }
 ],
 "metadata": {
  "kernelspec": {
   "display_name": "Python 3",
   "language": "python",
   "name": "python3"
  },
  "language_info": {
   "codemirror_mode": {
    "name": "ipython",
    "version": 3
   },
   "file_extension": ".py",
   "mimetype": "text/x-python",
   "name": "python",
   "nbconvert_exporter": "python",
   "pygments_lexer": "ipython3",
   "version": "3.13.0"
  }
 },
 "nbformat": 4,
 "nbformat_minor": 5
}
