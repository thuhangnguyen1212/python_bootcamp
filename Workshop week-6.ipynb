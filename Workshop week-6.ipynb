{
 "cells": [
  {
   "cell_type": "code",
   "execution_count": 2,
   "id": "b5bd7e32",
   "metadata": {},
   "outputs": [
    {
     "name": "stdout",
     "output_type": "stream",
     "text": [
      "Please enter only alphabetic characters.\n",
      "Please enter only alphabetic characters.\n",
      "Please enter only alphabetic characters.\n",
      "List of your favourite fruits:\n"
     ]
    }
   ],
   "source": [
    "fruits = []\n",
    "\n",
    "while True:\n",
    "    fruit = input(\"What is your favourite fruit? \")\n",
    "\n",
    "    if fruit.lower() == \"done\":\n",
    "        break\n",
    "\n",
    "    if fruit.isalpha():\n",
    "        fruits.append(fruit)\n",
    "    else:\n",
    "        print(\"Please enter only alphabetic characters.\")\n",
    "\n",
    "print(\"List of your favourite fruits:\")\n",
    "for fruit in fruits:\n",
    "    print(fruit)\n"
   ]
  }
 ],
 "metadata": {
  "kernelspec": {
   "display_name": "Python 3",
   "language": "python",
   "name": "python3"
  },
  "language_info": {
   "codemirror_mode": {
    "name": "ipython",
    "version": 3
   },
   "file_extension": ".py",
   "mimetype": "text/x-python",
   "name": "python",
   "nbconvert_exporter": "python",
   "pygments_lexer": "ipython3",
   "version": "3.13.0"
  }
 },
 "nbformat": 4,
 "nbformat_minor": 5
}
