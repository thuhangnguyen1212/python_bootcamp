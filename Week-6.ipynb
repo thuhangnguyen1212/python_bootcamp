{
 "cells": [
  {
   "cell_type": "code",
   "execution_count": null,
   "id": "c2165b94",
   "metadata": {},
   "outputs": [
    {
     "name": "stdout",
     "output_type": "stream",
     "text": [
      "Data collected:\n",
      "Thu Hang, 1, 37, F\n",
      "Demi, 2, 25, F\n",
      "Yanni, 3, 24, F\n",
      "\n"
     ]
    }
   ],
   "source": [
    "people = []\n",
    "\n",
    "while True:\n",
    "    name = input(\"What is your name? \")\n",
    "    if name.lower() == \"done\":\n",
    "        break\n",
    "    if not name.isalpha():\n",
    "        print(\"Invalid name. Only letters are allowed.\")\n",
    "        continue\n",
    "\n",
    "    ID = input(\"Enter your ID: \")\n",
    "    if not ID.isdigit():\n",
    "        print(\"Invalid ID. Only numbers are allowed.\")\n",
    "        continue\n",
    "\n",
    "    age = input(\"Enter your age: \")\n",
    "    if not age.isdigit():\n",
    "        print(\"Invalid age. Only numbers are allowed.\")\n",
    "        continue\n",
    "\n",
    "    sex = input(\"Enter your sex (M-male/F-female/other): \").lower()\n",
    "    if sex not in [\"M\", \"male\",\"F\",\"female\", \"other\"]:\n",
    "        print(\"Invalid sex. Choose M, male, F, female, or other.\")\n",
    "        continue\n",
    "\n",
    "    person = {\"name\": name, \"ID\": ID, \"age\": age,\"sex\": sex}\n",
    "    people.append(person)\n",
    "\n",
    "# Save to file\n",
    "with open(\"test.txt\", \"wt\") as f:\n",
    "    for person in people:\n",
    "        line = f'{person[\"name\"]}, {person[\"ID\"]}, {person[\"age\"]}, {person[\"sex\"]}\\n'\n",
    "        f.write(line)\n",
    "\n",
    "# Read back and print\n",
    "with open(\"test.txt\", \"r\") as f:\n",
    "    data = f.read()\n",
    "\n",
    "print(\"\\nData collected:\")\n",
    "print(data)\n",
    "\n"
   ]
  }
 ],
 "metadata": {
  "kernelspec": {
   "display_name": "Python 3",
   "language": "python",
   "name": "python3"
  },
  "language_info": {
   "codemirror_mode": {
    "name": "ipython",
    "version": 3
   },
   "file_extension": ".py",
   "mimetype": "text/x-python",
   "name": "python",
   "nbconvert_exporter": "python",
   "pygments_lexer": "ipython3",
   "version": "3.13.0"
  }
 },
 "nbformat": 4,
 "nbformat_minor": 5
}
