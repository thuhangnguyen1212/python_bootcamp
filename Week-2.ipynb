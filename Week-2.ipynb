{
 "cells": [
  {
   "cell_type": "code",
   "execution_count": 1,
   "id": "10d766dd",
   "metadata": {},
   "outputs": [
    {
     "name": "stdout",
     "output_type": "stream",
     "text": [
      "Both statements were true\n"
     ]
    }
   ],
   "source": [
    "x, y, z = 5, 10, 5\n",
    "if x < y and x == z:\n",
    "    print(\"Both statements were true\")"
   ]
  },
  {
   "cell_type": "code",
   "execution_count": 2,
   "id": "431e40bd",
   "metadata": {},
   "outputs": [
    {
     "name": "stdout",
     "output_type": "stream",
     "text": [
      "x is less\n"
     ]
    }
   ],
   "source": [
    "x, y = 5, 10\n",
    "if x > y:\n",
    "    print(\"x is greater\")\n",
    "elif x <y:\n",
    "    print (\"x is less\")"
   ]
  },
  {
   "cell_type": "code",
   "execution_count": 4,
   "id": "238e5abb",
   "metadata": {},
   "outputs": [
    {
     "name": "stdout",
     "output_type": "stream",
     "text": [
      "Name starts with an J\n"
     ]
    }
   ],
   "source": [
    "name =\"John\"\n",
    "if name[0] ==\"A\":\n",
    "    print(\"Name starts with an A\")\n",
    "elif name[0] ==\"B\":\n",
    "    print(\"Name starts with an B\")\n",
    "elif name[0] ==\"J\":\n",
    "    print(\"Name starts with an J\")\n",
    "else:\n",
    "    print(\"Name starts with a{}\".format(name[0]))"
   ]
  },
  {
   "cell_type": "code",
   "execution_count": 9,
   "id": "7d25ffa0",
   "metadata": {},
   "outputs": [
    {
     "name": "stdout",
     "output_type": "stream",
     "text": [
      "You chose \n",
      "First Number:1\n",
      "Second Number:2\n",
      "Sorry, but'' is not an option.\n",
      "Error: Improper number used. Please try again\n"
     ]
    }
   ],
   "source": [
    "operation = input(\"Would you like to add/subtract/multiply/divide?\").lower()\n",
    "print(\"You chose {}\".format(operation))\n",
    "if operation==\"subtract\" or operation==\"divide\":\n",
    "    print(\"You chose {}\".format(operation))\n",
    "    print(\"Please keep in mind that the order of your numbers matter.\")\n",
    "num1= input(\"What is the first number?\")\n",
    "num2= input(\"What is the second number?\")\n",
    "print( \"First Number:{}\".format(num1))\n",
    "print( \"Second Number:{}\".format(num2))\n",
    "num1, num2 =float(num1), float(num2)\n",
    "if operation==\"add\":\n",
    "    result=num1 + num2\n",
    "    print(\"{} +{} = {}\".format(num1, num2, result))\n",
    "elif operation==\"subtract\":\n",
    "    result=num1-num2\n",
    "    print(\"{} -{} = {}\".format(num1, num2, result))\n",
    "elif operation==\"mutiply\":\n",
    "    result=num1*num2\n",
    "    print(\"{}*{} = {}\".format(num1, num2, result))\n",
    "elif operation==\"divide\":\n",
    "    result=num1/num2\n",
    "    print(\"{}/{} = {}\".format(num1, num2, result))\n",
    "else:\n",
    "    print(\"Sorry, but'{}' is not an option.\".format(operation))\n",
    "print(\"Error: Improper number used. Please try again\")"
   ]
  },
  {
   "cell_type": "code",
   "execution_count": null,
   "id": "06f87d69",
   "metadata": {},
   "outputs": [],
   "source": []
  }
 ],
 "metadata": {
  "kernelspec": {
   "display_name": "Python 3",
   "language": "python",
   "name": "python3"
  },
  "language_info": {
   "codemirror_mode": {
    "name": "ipython",
    "version": 3
   },
   "file_extension": ".py",
   "mimetype": "text/x-python",
   "name": "python",
   "nbconvert_exporter": "python",
   "pygments_lexer": "ipython3",
   "version": "3.10.16"
  }
 },
 "nbformat": 4,
 "nbformat_minor": 5
}
