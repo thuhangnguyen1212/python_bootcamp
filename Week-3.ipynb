{
 "cells": [
  {
   "cell_type": "code",
   "execution_count": null,
   "id": "e08fb7bc",
   "metadata": {},
   "outputs": [
    {
     "name": "stdout",
     "output_type": "stream",
     "text": [
      "The total cost for 10 apples is $49.9\n"
     ]
    }
   ],
   "source": [
    "# Challenge 3\n",
    "price_apple=float(4.99)\n",
    "num_apple=int(input(\"How many apple?\"))\n",
    "total_cost=round(price_apple*num_apple,2)\n",
    "print( \"The total cost for {} apples is ${}\".format(num_apple,total_cost))"
   ]
  },
  {
   "cell_type": "code",
   "execution_count": 3,
   "id": "e969be9e",
   "metadata": {},
   "outputs": [
    {
     "name": "stdout",
     "output_type": "stream",
     "text": [
      "Hello, my name is Thu Hang Nguyen and I am 37 years old\n"
     ]
    }
   ],
   "source": [
    "name = \"Thu Hang Nguyen\"\n",
    "age  = 37\n",
    "print(\"Hello, my name is {} and I am {} years old\".format (name, age))"
   ]
  },
  {
   "cell_type": "code",
   "execution_count": null,
   "id": "d27631a2",
   "metadata": {},
   "outputs": [
    {
     "name": "stdout",
     "output_type": "stream",
     "text": [
      "<class 'bool'>\n",
      "<class 'str'>\n",
      "<class 'int'>\n",
      "<class 'float'>\n"
     ]
    }
   ],
   "source": [
    "greating = \"Welcome to new students\"\n",
    "year_born=int(1988)\n",
    "height_in_meters=float(1.60)\n",
    "is_student = bool(True)\n",
    "print(type(is_student))\n",
    "print(type(greating))\n",
    "print(type(year_born))\n",
    "print(type(height_in_meters))d"
   ]
  }
 ],
 "metadata": {
  "kernelspec": {
   "display_name": "Python 3",
   "language": "python",
   "name": "python3"
  },
  "language_info": {
   "codemirror_mode": {
    "name": "ipython",
    "version": 3
   },
   "file_extension": ".py",
   "mimetype": "text/x-python",
   "name": "python",
   "nbconvert_exporter": "python",
   "pygments_lexer": "ipython3",
   "version": "3.10.16"
  }
 },
 "nbformat": 4,
 "nbformat_minor": 5
}
